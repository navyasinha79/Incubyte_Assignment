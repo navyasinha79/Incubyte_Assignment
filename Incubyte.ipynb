{
 "cells": [
  {
   "cell_type": "code",
   "execution_count": 1,
   "metadata": {},
   "outputs": [],
   "source": [
    "import pandas as pd\n",
    "from datetime import datetime"
   ]
  },
  {
   "cell_type": "code",
   "execution_count": 3,
   "metadata": {},
   "outputs": [],
   "source": [
    "# Creating a dataframe by inserting each value.  \n",
    "\n",
    "complete_cust = pd.DataFrame({'H':['D', 'D','D','D','D'],\n",
    "        'Customer_Name':['Alex', 'John', 'Mathew', 'Matt', 'Jacob'],\n",
    "        'Customer_Id': ['123457', '123458', '123459', '12345', '1256'],\n",
    "        'Open_Date': [20121012,20121012,20121012,20121012,20121012],\n",
    "        'Last_Consulted_Date': ['20121013', '20121013', '20121013', '20121013', '20121013'],\n",
    "        'Vaccination_Id': ['MVD', 'MVD', 'MVD', 'MVD', 'MVD'],\n",
    "        'Dr_Name':['Paul', 'Paul', 'Paul', 'Paul', 'Paul'],\n",
    "        'State':['SA', 'TN', 'WAS', 'BOS', 'VIC'],\n",
    "        'Country':['USA', 'IND', 'PHIL', 'NYC', 'AU'],\n",
    "        'DOB': [6031987, 6031987, 6031987, 6031987, 6031987],\n",
    "        'Is_Active': ['A','A', 'A','A','A']})"
   ]
  },
  {
   "cell_type": "code",
   "execution_count": 4,
   "metadata": {},
   "outputs": [],
   "source": [
    "# Considering yyyy-mm-dd format\n",
    "complete_cust[\"Open_Date\"]=pd.to_datetime(complete_cust['Open_Date'], format = '%Y%m%d')\n",
    "complete_cust[\"Last_Consulted_Date\"]=pd.to_datetime(complete_cust['Last_Consulted_Date'], format = '%Y%m%d')\n",
    "\n",
    "# Considering mm-dd-yyyy format\n",
    "complete_cust[\"DOB\"]=pd.to_datetime(complete_cust['DOB'], format = '%d%m%Y')"
   ]
  },
  {
   "cell_type": "code",
   "execution_count": null,
   "metadata": {},
   "outputs": [],
   "source": [
    "# the whole data can also be stored in txt/csv format and can be converted into a dataframe as well.\n",
    "\n",
    "## complete_cust=pd.read_csv('sample_data.txt', sep='|')\n",
    "## complete_cust"
   ]
  },
  {
   "cell_type": "code",
   "execution_count": 5,
   "metadata": {},
   "outputs": [
    {
     "data": {
      "text/html": [
       "<div>\n",
       "<style scoped>\n",
       "    .dataframe tbody tr th:only-of-type {\n",
       "        vertical-align: middle;\n",
       "    }\n",
       "\n",
       "    .dataframe tbody tr th {\n",
       "        vertical-align: top;\n",
       "    }\n",
       "\n",
       "    .dataframe thead th {\n",
       "        text-align: right;\n",
       "    }\n",
       "</style>\n",
       "<table border=\"1\" class=\"dataframe\">\n",
       "  <thead>\n",
       "    <tr style=\"text-align: right;\">\n",
       "      <th></th>\n",
       "      <th>H</th>\n",
       "      <th>Customer_Name</th>\n",
       "      <th>Customer_Id</th>\n",
       "      <th>Open_Date</th>\n",
       "      <th>Last_Consulted_Date</th>\n",
       "      <th>Vaccination_Id</th>\n",
       "      <th>Dr_Name</th>\n",
       "      <th>State</th>\n",
       "      <th>Country</th>\n",
       "      <th>DOB</th>\n",
       "      <th>Is_Active</th>\n",
       "    </tr>\n",
       "  </thead>\n",
       "  <tbody>\n",
       "    <tr>\n",
       "      <th>0</th>\n",
       "      <td>D</td>\n",
       "      <td>Alex</td>\n",
       "      <td>123457</td>\n",
       "      <td>2012-10-12</td>\n",
       "      <td>2012-10-13</td>\n",
       "      <td>MVD</td>\n",
       "      <td>Paul</td>\n",
       "      <td>SA</td>\n",
       "      <td>USA</td>\n",
       "      <td>1987-03-06</td>\n",
       "      <td>A</td>\n",
       "    </tr>\n",
       "    <tr>\n",
       "      <th>1</th>\n",
       "      <td>D</td>\n",
       "      <td>John</td>\n",
       "      <td>123458</td>\n",
       "      <td>2012-10-12</td>\n",
       "      <td>2012-10-13</td>\n",
       "      <td>MVD</td>\n",
       "      <td>Paul</td>\n",
       "      <td>TN</td>\n",
       "      <td>IND</td>\n",
       "      <td>1987-03-06</td>\n",
       "      <td>A</td>\n",
       "    </tr>\n",
       "    <tr>\n",
       "      <th>2</th>\n",
       "      <td>D</td>\n",
       "      <td>Mathew</td>\n",
       "      <td>123459</td>\n",
       "      <td>2012-10-12</td>\n",
       "      <td>2012-10-13</td>\n",
       "      <td>MVD</td>\n",
       "      <td>Paul</td>\n",
       "      <td>WAS</td>\n",
       "      <td>PHIL</td>\n",
       "      <td>1987-03-06</td>\n",
       "      <td>A</td>\n",
       "    </tr>\n",
       "    <tr>\n",
       "      <th>3</th>\n",
       "      <td>D</td>\n",
       "      <td>Matt</td>\n",
       "      <td>12345</td>\n",
       "      <td>2012-10-12</td>\n",
       "      <td>2012-10-13</td>\n",
       "      <td>MVD</td>\n",
       "      <td>Paul</td>\n",
       "      <td>BOS</td>\n",
       "      <td>NYC</td>\n",
       "      <td>1987-03-06</td>\n",
       "      <td>A</td>\n",
       "    </tr>\n",
       "    <tr>\n",
       "      <th>4</th>\n",
       "      <td>D</td>\n",
       "      <td>Jacob</td>\n",
       "      <td>1256</td>\n",
       "      <td>2012-10-12</td>\n",
       "      <td>2012-10-13</td>\n",
       "      <td>MVD</td>\n",
       "      <td>Paul</td>\n",
       "      <td>VIC</td>\n",
       "      <td>AU</td>\n",
       "      <td>1987-03-06</td>\n",
       "      <td>A</td>\n",
       "    </tr>\n",
       "  </tbody>\n",
       "</table>\n",
       "</div>"
      ],
      "text/plain": [
       "   H Customer_Name Customer_Id  Open_Date Last_Consulted_Date Vaccination_Id  \\\n",
       "0  D          Alex      123457 2012-10-12          2012-10-13            MVD   \n",
       "1  D          John      123458 2012-10-12          2012-10-13            MVD   \n",
       "2  D        Mathew      123459 2012-10-12          2012-10-13            MVD   \n",
       "3  D          Matt       12345 2012-10-12          2012-10-13            MVD   \n",
       "4  D         Jacob        1256 2012-10-12          2012-10-13            MVD   \n",
       "\n",
       "  Dr_Name State Country        DOB Is_Active  \n",
       "0    Paul    SA     USA 1987-03-06         A  \n",
       "1    Paul    TN     IND 1987-03-06         A  \n",
       "2    Paul   WAS    PHIL 1987-03-06         A  \n",
       "3    Paul   BOS     NYC 1987-03-06         A  \n",
       "4    Paul   VIC      AU 1987-03-06         A  "
      ]
     },
     "execution_count": 5,
     "metadata": {},
     "output_type": "execute_result"
    }
   ],
   "source": [
    "complete_cust"
   ]
  },
  {
   "cell_type": "code",
   "execution_count": 6,
   "metadata": {},
   "outputs": [
    {
     "data": {
      "text/plain": [
       "H                              object\n",
       "Customer_Name                  object\n",
       "Customer_Id                    object\n",
       "Open_Date              datetime64[ns]\n",
       "Last_Consulted_Date    datetime64[ns]\n",
       "Vaccination_Id                 object\n",
       "Dr_Name                        object\n",
       "State                          object\n",
       "Country                        object\n",
       "DOB                    datetime64[ns]\n",
       "Is_Active                      object\n",
       "dtype: object"
      ]
     },
     "execution_count": 6,
     "metadata": {},
     "output_type": "execute_result"
    }
   ],
   "source": [
    "# Datatype\n",
    "\n",
    "complete_cust.dtypes"
   ]
  },
  {
   "cell_type": "code",
   "execution_count": 7,
   "metadata": {},
   "outputs": [],
   "source": [
    "# Storing all the countries in a list\n",
    "countries=list(complete_cust.Country.unique())"
   ]
  },
  {
   "cell_type": "code",
   "execution_count": 8,
   "metadata": {},
   "outputs": [
    {
     "data": {
      "text/plain": [
       "['USA', 'IND', 'PHIL', 'NYC', 'AU']"
      ]
     },
     "execution_count": 8,
     "metadata": {},
     "output_type": "execute_result"
    }
   ],
   "source": [
    "countries"
   ]
  },
  {
   "cell_type": "code",
   "execution_count": 9,
   "metadata": {},
   "outputs": [],
   "source": [
    "# Creating csv Table_(countryname) for each country\n",
    "for i in countries: \n",
    "    temp = complete_cust[complete_cust['Country']==i]\n",
    "    df=pd.DataFrame(temp)\n",
    "    df = df.rename(columns={'Customer_Name':'Name',\n",
    "                            'Customer_Id':'Cust_I', \n",
    "                            'Open_Date':'Open_Dt',\n",
    "                            'Last_Consulted_Date':'Consul_Dt',\n",
    "                            \"Vaccination_Id\":'VAC_ID',\n",
    "                            'Dr_Name':'DR_Name',\n",
    "                            'State':'State',\n",
    "                            'Country':'County',\n",
    "                            'DOB':'DOB',\n",
    "                            'Is_Active':'FLAG'})\n",
    "    df.to_csv(\"Table_{}\".format(i)+\".csv\", index=False)"
   ]
  },
  {
   "cell_type": "code",
   "execution_count": 10,
   "metadata": {},
   "outputs": [
    {
     "data": {
      "text/html": [
       "<div>\n",
       "<style scoped>\n",
       "    .dataframe tbody tr th:only-of-type {\n",
       "        vertical-align: middle;\n",
       "    }\n",
       "\n",
       "    .dataframe tbody tr th {\n",
       "        vertical-align: top;\n",
       "    }\n",
       "\n",
       "    .dataframe thead th {\n",
       "        text-align: right;\n",
       "    }\n",
       "</style>\n",
       "<table border=\"1\" class=\"dataframe\">\n",
       "  <thead>\n",
       "    <tr style=\"text-align: right;\">\n",
       "      <th></th>\n",
       "      <th>H</th>\n",
       "      <th>Name</th>\n",
       "      <th>Cust_I</th>\n",
       "      <th>Open_Dt</th>\n",
       "      <th>Consul_Dt</th>\n",
       "      <th>VAC_ID</th>\n",
       "      <th>DR_Name</th>\n",
       "      <th>State</th>\n",
       "      <th>County</th>\n",
       "      <th>DOB</th>\n",
       "      <th>FLAG</th>\n",
       "    </tr>\n",
       "  </thead>\n",
       "  <tbody>\n",
       "    <tr>\n",
       "      <th>0</th>\n",
       "      <td>D</td>\n",
       "      <td>John</td>\n",
       "      <td>123458</td>\n",
       "      <td>2012-10-12</td>\n",
       "      <td>2012-10-13</td>\n",
       "      <td>MVD</td>\n",
       "      <td>Paul</td>\n",
       "      <td>TN</td>\n",
       "      <td>IND</td>\n",
       "      <td>1987-03-06</td>\n",
       "      <td>A</td>\n",
       "    </tr>\n",
       "  </tbody>\n",
       "</table>\n",
       "</div>"
      ],
      "text/plain": [
       "   H  Name  Cust_I     Open_Dt   Consul_Dt VAC_ID DR_Name State County  \\\n",
       "0  D  John  123458  2012-10-12  2012-10-13    MVD    Paul    TN    IND   \n",
       "\n",
       "          DOB FLAG  \n",
       "0  1987-03-06    A  "
      ]
     },
     "execution_count": 10,
     "metadata": {},
     "output_type": "execute_result"
    }
   ],
   "source": [
    "ind=pd.read_csv('Table_IND.csv')\n",
    "ind"
   ]
  },
  {
   "cell_type": "code",
   "execution_count": 12,
   "metadata": {},
   "outputs": [
    {
     "data": {
      "text/html": [
       "<div>\n",
       "<style scoped>\n",
       "    .dataframe tbody tr th:only-of-type {\n",
       "        vertical-align: middle;\n",
       "    }\n",
       "\n",
       "    .dataframe tbody tr th {\n",
       "        vertical-align: top;\n",
       "    }\n",
       "\n",
       "    .dataframe thead th {\n",
       "        text-align: right;\n",
       "    }\n",
       "</style>\n",
       "<table border=\"1\" class=\"dataframe\">\n",
       "  <thead>\n",
       "    <tr style=\"text-align: right;\">\n",
       "      <th></th>\n",
       "      <th>H</th>\n",
       "      <th>Name</th>\n",
       "      <th>Cust_I</th>\n",
       "      <th>Open_Dt</th>\n",
       "      <th>Consul_Dt</th>\n",
       "      <th>VAC_ID</th>\n",
       "      <th>DR_Name</th>\n",
       "      <th>State</th>\n",
       "      <th>County</th>\n",
       "      <th>DOB</th>\n",
       "      <th>FLAG</th>\n",
       "    </tr>\n",
       "  </thead>\n",
       "  <tbody>\n",
       "    <tr>\n",
       "      <th>0</th>\n",
       "      <td>D</td>\n",
       "      <td>Alex</td>\n",
       "      <td>123457</td>\n",
       "      <td>2012-10-12</td>\n",
       "      <td>2012-10-13</td>\n",
       "      <td>MVD</td>\n",
       "      <td>Paul</td>\n",
       "      <td>SA</td>\n",
       "      <td>USA</td>\n",
       "      <td>1987-03-06</td>\n",
       "      <td>A</td>\n",
       "    </tr>\n",
       "  </tbody>\n",
       "</table>\n",
       "</div>"
      ],
      "text/plain": [
       "   H  Name  Cust_I     Open_Dt   Consul_Dt VAC_ID DR_Name State County  \\\n",
       "0  D  Alex  123457  2012-10-12  2012-10-13    MVD    Paul    SA    USA   \n",
       "\n",
       "          DOB FLAG  \n",
       "0  1987-03-06    A  "
      ]
     },
     "execution_count": 12,
     "metadata": {},
     "output_type": "execute_result"
    }
   ],
   "source": [
    "usa=pd.read_csv('Table_USA.csv')\n",
    "usa"
   ]
  }
 ],
 "metadata": {
  "kernelspec": {
   "display_name": "Python 3",
   "language": "python",
   "name": "python3"
  },
  "language_info": {
   "codemirror_mode": {
    "name": "ipython",
    "version": 3
   },
   "file_extension": ".py",
   "mimetype": "text/x-python",
   "name": "python",
   "nbconvert_exporter": "python",
   "pygments_lexer": "ipython3",
   "version": "3.8.5"
  }
 },
 "nbformat": 4,
 "nbformat_minor": 4
}
